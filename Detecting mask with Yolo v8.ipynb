{
 "cells": [
  {
   "cell_type": "markdown",
   "id": "29d17859",
   "metadata": {},
   "source": [
    "### some imports"
   ]
  },
  {
   "cell_type": "code",
   "execution_count": 251,
   "id": "a0275d50",
   "metadata": {},
   "outputs": [],
   "source": [
    "import pandas as pd\n",
    "import numpy as np\n",
    "from glob import glob\n",
    "import random\n",
    "import shutil\n",
    "import xml.etree.ElementTree as ET\n",
    "import matplotlib.pyplot as plt\n",
    "import seaborn as sns\n",
    "from sklearn.model_selection import train_test_split\n",
    "import PIL"
   ]
  },
  {
   "cell_type": "code",
   "execution_count": 252,
   "id": "cefabaab",
   "metadata": {},
   "outputs": [],
   "source": [
    "root_dir = os.getcwd()+'/root'\n",
    "annot_dir = os.path.join(root_dir, 'annotations')\n",
    "img_dir = os.path.join(root_dir, 'images')"
   ]
  },
  {
   "cell_type": "markdown",
   "id": "52ef978d",
   "metadata": {},
   "source": [
    "### get information for all the face images"
   ]
  },
  {
   "cell_type": "code",
   "execution_count": 253,
   "id": "25462f6c",
   "metadata": {},
   "outputs": [],
   "source": [
    "dataset = {'filename':[],\n",
    "           'mask_or_not':[],\n",
    "           'width':[],\n",
    "           'height':[],\n",
    "           'xmin':[],\n",
    "           'ymin':[],\n",
    "           'xmax':[],\n",
    "           'ymax':[]\n",
    "           }"
   ]
  },
  {
   "cell_type": "code",
   "execution_count": 254,
   "id": "e4b5d5be",
   "metadata": {},
   "outputs": [],
   "source": [
    "for annot in glob(annot_dir+'/*.xml'):\n",
    "    tree = ET.parse(annot)\n",
    "    for element in tree.iter(): # iterate info for all the faces from all the images\n",
    "        if 'size' in element.tag:\n",
    "            for attribute in list(element):\n",
    "                if 'width' in attribute.tag:\n",
    "                    width = int(round(float(attribute.text)))\n",
    "                if 'height' in attribute.tag:\n",
    "                    height = int(round(float(attribute.text)))\n",
    "        \n",
    "        if 'object' in element.tag:\n",
    "            for attribute in list(element):\n",
    "                if 'name' in attribute.tag:\n",
    "                    name = attribute.text\n",
    "                    dataset['mask_or_not']+=[name]\n",
    "                    dataset['width']+=[width]\n",
    "                    dataset['height']+=[height]\n",
    "                    dataset['filename']+=[annot.split('/')[-1][0:-4]]\n",
    "                \n",
    "                if 'bndbox' in attribute.tag:\n",
    "                    for dimension in list(attribute):\n",
    "                        if 'xmin' in dimension.tag:\n",
    "                            xmin = int(round(float(dimension.text)))\n",
    "                            dataset['xmin']+=[xmin]\n",
    "                        if 'ymin' in dimension.tag:\n",
    "                            ymin = int(round(float(dimension.text)))\n",
    "                            dataset['ymin']+=[ymin]\n",
    "                        if 'xmax' in dimension.tag:\n",
    "                            xmax = int(round(float(dimension.text)))\n",
    "                            dataset['xmax']+=[xmax]\n",
    "                        if 'ymax' in dimension.tag:\n",
    "                            ymax = int(round(float(dimension.text)))\n",
    "                            dataset['ymax']+=[ymax]"
   ]
  },
  {
   "cell_type": "code",
   "execution_count": 255,
   "id": "d200473f",
   "metadata": {},
   "outputs": [
    {
     "data": {
      "text/plain": [
       "(4072, 8)"
      ]
     },
     "execution_count": 255,
     "metadata": {},
     "output_type": "execute_result"
    }
   ],
   "source": [
    "df = pd.DataFrame(dataset)\n",
    "df.shape"
   ]
  },
  {
   "cell_type": "code",
   "execution_count": 256,
   "id": "3f143a04",
   "metadata": {},
   "outputs": [
    {
     "data": {
      "text/html": [
       "<div>\n",
       "<style scoped>\n",
       "    .dataframe tbody tr th:only-of-type {\n",
       "        vertical-align: middle;\n",
       "    }\n",
       "\n",
       "    .dataframe tbody tr th {\n",
       "        vertical-align: top;\n",
       "    }\n",
       "\n",
       "    .dataframe thead th {\n",
       "        text-align: right;\n",
       "    }\n",
       "</style>\n",
       "<table border=\"1\" class=\"dataframe\">\n",
       "  <thead>\n",
       "    <tr style=\"text-align: right;\">\n",
       "      <th></th>\n",
       "      <th>filename</th>\n",
       "      <th>mask_or_not</th>\n",
       "      <th>width</th>\n",
       "      <th>height</th>\n",
       "      <th>xmin</th>\n",
       "      <th>ymin</th>\n",
       "      <th>xmax</th>\n",
       "      <th>ymax</th>\n",
       "    </tr>\n",
       "  </thead>\n",
       "  <tbody>\n",
       "    <tr>\n",
       "      <th>0</th>\n",
       "      <td>maksssksksss299</td>\n",
       "      <td>without_mask</td>\n",
       "      <td>301</td>\n",
       "      <td>400</td>\n",
       "      <td>62</td>\n",
       "      <td>194</td>\n",
       "      <td>160</td>\n",
       "      <td>320</td>\n",
       "    </tr>\n",
       "    <tr>\n",
       "      <th>1</th>\n",
       "      <td>maksssksksss528</td>\n",
       "      <td>without_mask</td>\n",
       "      <td>301</td>\n",
       "      <td>400</td>\n",
       "      <td>43</td>\n",
       "      <td>169</td>\n",
       "      <td>149</td>\n",
       "      <td>308</td>\n",
       "    </tr>\n",
       "    <tr>\n",
       "      <th>2</th>\n",
       "      <td>maksssksksss272</td>\n",
       "      <td>mask_weared_incorrect</td>\n",
       "      <td>275</td>\n",
       "      <td>400</td>\n",
       "      <td>48</td>\n",
       "      <td>107</td>\n",
       "      <td>218</td>\n",
       "      <td>304</td>\n",
       "    </tr>\n",
       "    <tr>\n",
       "      <th>3</th>\n",
       "      <td>maksssksksss514</td>\n",
       "      <td>with_mask</td>\n",
       "      <td>400</td>\n",
       "      <td>267</td>\n",
       "      <td>28</td>\n",
       "      <td>78</td>\n",
       "      <td>43</td>\n",
       "      <td>99</td>\n",
       "    </tr>\n",
       "    <tr>\n",
       "      <th>4</th>\n",
       "      <td>maksssksksss514</td>\n",
       "      <td>with_mask</td>\n",
       "      <td>400</td>\n",
       "      <td>267</td>\n",
       "      <td>160</td>\n",
       "      <td>66</td>\n",
       "      <td>176</td>\n",
       "      <td>83</td>\n",
       "    </tr>\n",
       "  </tbody>\n",
       "</table>\n",
       "</div>"
      ],
      "text/plain": [
       "          filename            mask_or_not  width  height  xmin  ymin  xmax  \\\n",
       "0  maksssksksss299           without_mask    301     400    62   194   160   \n",
       "1  maksssksksss528           without_mask    301     400    43   169   149   \n",
       "2  maksssksksss272  mask_weared_incorrect    275     400    48   107   218   \n",
       "3  maksssksksss514              with_mask    400     267    28    78    43   \n",
       "4  maksssksksss514              with_mask    400     267   160    66   176   \n",
       "\n",
       "   ymax  \n",
       "0   320  \n",
       "1   308  \n",
       "2   304  \n",
       "3    99  \n",
       "4    83  "
      ]
     },
     "execution_count": 256,
     "metadata": {},
     "output_type": "execute_result"
    }
   ],
   "source": [
    "df.head(5)"
   ]
  },
  {
   "cell_type": "code",
   "execution_count": 257,
   "id": "b6d200eb",
   "metadata": {
    "scrolled": true
   },
   "outputs": [
    {
     "data": {
      "image/png": "[encoded data removed]",
      "text/plain": [
       "<Figure size 1152x360 with 2 Axes>"
      ]
     },
     "metadata": {
      "needs_background": "light"
     },
     "output_type": "display_data"
    }
   ],
   "source": [
    "fig,axes = plt.subplots(1,2,figsize=(16,5))\n",
    "sns.barplot(data=df['mask_or_not'].value_counts().reset_index(), x='index', y='mask_or_not',ax=axes[0], alpha=0.5)\n",
    "for i in axes[0].get_xticklabels():\n",
    "    i.set_font('monospace')\n",
    "    i.set_weight('semibold')\n",
    "    i.set_size(12)\n",
    "for j in axes[0].containers:\n",
    "    axes[0].bar_label(j)\n",
    "    \n",
    "axes[0].set_xlabel('')\n",
    "axes[0].set_ylabel('count', font='monospace', weight='semibold', size=12)\n",
    "axes[0].set_title('The image count distribution\\n', font='monospace', weight='semibold', size=15)\n",
    "\n",
    "patches, texts, pcts = axes[1].pie(df['mask_or_not'].value_counts().reset_index()['mask_or_not'], labels=df['mask_or_not'].value_counts().reset_index()['index'], wedgeprops={'linewidth': 2, 'edgecolor': 'white'},\n",
    "            textprops={'size': 'x-large'}, startangle=90, autopct='%1.2f%%');\n",
    "for i, patch in enumerate(patches):\n",
    "    texts[i].set_color(patch.get_facecolor())\n",
    "    patch.set_alpha(0.5)\n",
    "for j in pcts:\n",
    "    j.set_size(10)\n",
    "    j.set_color('white')\n",
    "    j.set_weight('semibold')\n",
    "plt.setp(texts, fontweight='semibold', font='monospace')\n",
    "axes[1].legend(loc=[1,0.5])\n",
    "axes[1].set_title('The image count distribution\\n', font='monospace', weight='semibold', size=15);"
   ]
  },
  {
   "cell_type": "code",
   "execution_count": 258,
   "id": "805de752",
   "metadata": {},
   "outputs": [],
   "source": [
    "scale = {'with_mask':0, 'without_mask':1, 'mask_weared_incorrect':2}"
   ]
  },
  {
   "cell_type": "code",
   "execution_count": 259,
   "id": "397b0298",
   "metadata": {},
   "outputs": [],
   "source": [
    "df['classes'] = df['mask_or_not'].replace(scale)"
   ]
  },
  {
   "cell_type": "code",
   "execution_count": 260,
   "id": "51b6fc24",
   "metadata": {},
   "outputs": [
    {
     "data": {
      "text/html": [
       "<div>\n",
       "<style scoped>\n",
       "    .dataframe tbody tr th:only-of-type {\n",
       "        vertical-align: middle;\n",
       "    }\n",
       "\n",
       "    .dataframe tbody tr th {\n",
       "        vertical-align: top;\n",
       "    }\n",
       "\n",
       "    .dataframe thead th {\n",
       "        text-align: right;\n",
       "    }\n",
       "</style>\n",
       "<table border=\"1\" class=\"dataframe\">\n",
       "  <thead>\n",
       "    <tr style=\"text-align: right;\">\n",
       "      <th></th>\n",
       "      <th>filename</th>\n",
       "      <th>mask_or_not</th>\n",
       "      <th>width</th>\n",
       "      <th>height</th>\n",
       "      <th>xmin</th>\n",
       "      <th>ymin</th>\n",
       "      <th>xmax</th>\n",
       "      <th>ymax</th>\n",
       "      <th>classes</th>\n",
       "    </tr>\n",
       "  </thead>\n",
       "  <tbody>\n",
       "    <tr>\n",
       "      <th>0</th>\n",
       "      <td>maksssksksss299</td>\n",
       "      <td>without_mask</td>\n",
       "      <td>301</td>\n",
       "      <td>400</td>\n",
       "      <td>62</td>\n",
       "      <td>194</td>\n",
       "      <td>160</td>\n",
       "      <td>320</td>\n",
       "      <td>1</td>\n",
       "    </tr>\n",
       "    <tr>\n",
       "      <th>1</th>\n",
       "      <td>maksssksksss528</td>\n",
       "      <td>without_mask</td>\n",
       "      <td>301</td>\n",
       "      <td>400</td>\n",
       "      <td>43</td>\n",
       "      <td>169</td>\n",
       "      <td>149</td>\n",
       "      <td>308</td>\n",
       "      <td>1</td>\n",
       "    </tr>\n",
       "    <tr>\n",
       "      <th>2</th>\n",
       "      <td>maksssksksss272</td>\n",
       "      <td>mask_weared_incorrect</td>\n",
       "      <td>275</td>\n",
       "      <td>400</td>\n",
       "      <td>48</td>\n",
       "      <td>107</td>\n",
       "      <td>218</td>\n",
       "      <td>304</td>\n",
       "      <td>2</td>\n",
       "    </tr>\n",
       "    <tr>\n",
       "      <th>3</th>\n",
       "      <td>maksssksksss514</td>\n",
       "      <td>with_mask</td>\n",
       "      <td>400</td>\n",
       "      <td>267</td>\n",
       "      <td>28</td>\n",
       "      <td>78</td>\n",
       "      <td>43</td>\n",
       "      <td>99</td>\n",
       "      <td>0</td>\n",
       "    </tr>\n",
       "    <tr>\n",
       "      <th>4</th>\n",
       "      <td>maksssksksss514</td>\n",
       "      <td>with_mask</td>\n",
       "      <td>400</td>\n",
       "      <td>267</td>\n",
       "      <td>160</td>\n",
       "      <td>66</td>\n",
       "      <td>176</td>\n",
       "      <td>83</td>\n",
       "      <td>0</td>\n",
       "    </tr>\n",
       "  </tbody>\n",
       "</table>\n",
       "</div>"
      ],
      "text/plain": [
       "          filename            mask_or_not  width  height  xmin  ymin  xmax  \\\n",
       "0  maksssksksss299           without_mask    301     400    62   194   160   \n",
       "1  maksssksksss528           without_mask    301     400    43   169   149   \n",
       "2  maksssksksss272  mask_weared_incorrect    275     400    48   107   218   \n",
       "3  maksssksksss514              with_mask    400     267    28    78    43   \n",
       "4  maksssksksss514              with_mask    400     267   160    66   176   \n",
       "\n",
       "   ymax  classes  \n",
       "0   320        1  \n",
       "1   308        1  \n",
       "2   304        2  \n",
       "3    99        0  \n",
       "4    83        0  "
      ]
     },
     "execution_count": 260,
     "metadata": {},
     "output_type": "execute_result"
    }
   ],
   "source": [
    "df.head()"
   ]
  },
  {
   "cell_type": "markdown",
   "id": "14c06748",
   "metadata": {},
   "source": [
    "### create the all the files"
   ]
  },
  {
   "cell_type": "code",
   "execution_count": 261,
   "id": "c0fed84f",
   "metadata": {},
   "outputs": [],
   "source": [
    "base_dir = os.path.join('Mask_Detection')\n",
    "train_dir = os.path.join(base_dir, 'train')\n",
    "train_imgs_dir = os.path.join(train_dir, 'images')\n",
    "train_labels_dir = os.path.join(train_dir, 'labels')\n",
    "\n",
    "validation_dir = os.path.join(base_dir, 'validation')\n",
    "validation_imgs_dir = os.path.join(validation_dir, 'images')\n",
    "validation_labels_dir = os.path.join(validation_dir, 'labels')\n",
    "\n",
    "test_dir = os.path.join(base_dir, 'test')\n",
    "test_imgs_dir = os.path.join(test_dir, 'images')\n",
    "test_labels_dir = os.path.join(test_dir, 'labels')"
   ]
  },
  {
   "cell_type": "code",
   "execution_count": 262,
   "id": "b83320a6",
   "metadata": {},
   "outputs": [],
   "source": [
    "def create_dir(path):\n",
    "    if not os.path.exists(path):\n",
    "        os.makedirs(path)"
   ]
  },
  {
   "cell_type": "code",
   "execution_count": 263,
   "id": "b48652d2",
   "metadata": {},
   "outputs": [],
   "source": [
    "create_dir(base_dir)\n",
    "\n",
    "create_dir(train_dir)\n",
    "create_dir(train_imgs_dir)\n",
    "create_dir(train_labels_dir)\n",
    "\n",
    "create_dir(validation_dir)\n",
    "create_dir(validation_imgs_dir)\n",
    "create_dir(validation_labels_dir)\n",
    "\n",
    "create_dir(test_dir)\n",
    "create_dir(test_imgs_dir)\n",
    "create_dir(test_labels_dir)"
   ]
  },
  {
   "cell_type": "markdown",
   "id": "268fff48",
   "metadata": {},
   "source": [
    "### split the data"
   ]
  },
  {
   "cell_type": "code",
   "execution_count": 264,
   "id": "11f7459d",
   "metadata": {},
   "outputs": [
    {
     "name": "stdout",
     "output_type": "stream",
     "text": [
      "There are totally 853 images \n"
     ]
    }
   ],
   "source": [
    "all_imgs = os.listdir(img_dir)\n",
    "print(f'There are totally {len(all_imgs)} images ')"
   ]
  },
  {
   "cell_type": "code",
   "execution_count": 265,
   "id": "ff7f9dde",
   "metadata": {},
   "outputs": [],
   "source": [
    "train, test = train_test_split(all_imgs, test_size=0.1)\n",
    "train, validation = train_test_split(train, test_size=0.15)"
   ]
  },
  {
   "cell_type": "code",
   "execution_count": 266,
   "id": "9e248bdc",
   "metadata": {},
   "outputs": [
    {
     "name": "stdout",
     "output_type": "stream",
     "text": [
      "There are 651 images in the train set\n",
      "\n",
      "There are 116 images in the train set\n",
      "\n",
      "There are 86 images in the train set\n"
     ]
    }
   ],
   "source": [
    "print(f'There are {len(train)} images in the train set\\n')\n",
    "print(f'There are {len(validation)} images in the train set\\n')\n",
    "print(f'There are {len(test)} images in the train set')"
   ]
  },
  {
   "cell_type": "markdown",
   "id": "eb468222",
   "metadata": {},
   "source": [
    "### copy the images to the splited files"
   ]
  },
  {
   "cell_type": "code",
   "execution_count": 267,
   "id": "1963bf6b",
   "metadata": {},
   "outputs": [],
   "source": [
    "def copy_images(source_path, destination_path, copied_images):\n",
    "    for img in copied_images:\n",
    "        image = PIL.Image.open(os.path.join(source_path, img))\n",
    "        resized = image.resize((640,480))\n",
    "        _ = resized.save(os.path.join(destination_path, img))"
   ]
  },
  {
   "cell_type": "code",
   "execution_count": 268,
   "id": "9cbfdd2d",
   "metadata": {},
   "outputs": [],
   "source": [
    "copy_images(img_dir,train_imgs_dir, train)\n",
    "copy_images(img_dir,validation_imgs_dir, validation)\n",
    "copy_images(img_dir,test_imgs_dir, test)"
   ]
  },
  {
   "cell_type": "code",
   "execution_count": 269,
   "id": "a8174c2d",
   "metadata": {},
   "outputs": [
    {
     "name": "stdout",
     "output_type": "stream",
     "text": [
      "There are 651 images in the train set\n",
      "\n",
      "There are 116 images in the train set\n",
      "\n",
      "There are 86 images in the train set\n"
     ]
    }
   ],
   "source": [
    "print(f'There are {len(os.listdir(train_imgs_dir))} images in the train set\\n')\n",
    "print(f'There are {len(os.listdir(validation_imgs_dir))} images in the train set\\n')\n",
    "print(f'There are {len(os.listdir(test_imgs_dir))} images in the train set') \n",
    "# as we can see now we have splited the images data"
   ]
  },
  {
   "cell_type": "markdown",
   "id": "d09bbac0",
   "metadata": {},
   "source": [
    "### "
   ]
  },
  {
   "cell_type": "markdown",
   "id": "dbd15b10",
   "metadata": {},
   "source": [
    "Now, we need to resize the annotation box, because here change the image size we can change annotation box size, and find the center of the coordinates\n",
    "\n",
    "x = (new_x/older_x)*x"
   ]
  },
  {
   "cell_type": "code",
   "execution_count": 270,
   "id": "b76e6aff",
   "metadata": {},
   "outputs": [
    {
     "data": {
      "text/html": [
       "<div>\n",
       "<style scoped>\n",
       "    .dataframe tbody tr th:only-of-type {\n",
       "        vertical-align: middle;\n",
       "    }\n",
       "\n",
       "    .dataframe tbody tr th {\n",
       "        vertical-align: top;\n",
       "    }\n",
       "\n",
       "    .dataframe thead th {\n",
       "        text-align: right;\n",
       "    }\n",
       "</style>\n",
       "<table border=\"1\" class=\"dataframe\">\n",
       "  <thead>\n",
       "    <tr style=\"text-align: right;\">\n",
       "      <th></th>\n",
       "      <th>filename</th>\n",
       "      <th>mask_or_not</th>\n",
       "      <th>width</th>\n",
       "      <th>height</th>\n",
       "      <th>xmin</th>\n",
       "      <th>ymin</th>\n",
       "      <th>xmax</th>\n",
       "      <th>ymax</th>\n",
       "      <th>classes</th>\n",
       "    </tr>\n",
       "  </thead>\n",
       "  <tbody>\n",
       "    <tr>\n",
       "      <th>0</th>\n",
       "      <td>maksssksksss299</td>\n",
       "      <td>without_mask</td>\n",
       "      <td>301</td>\n",
       "      <td>400</td>\n",
       "      <td>131.827243</td>\n",
       "      <td>232.800000</td>\n",
       "      <td>340.199336</td>\n",
       "      <td>384.000000</td>\n",
       "      <td>1</td>\n",
       "    </tr>\n",
       "    <tr>\n",
       "      <th>1</th>\n",
       "      <td>maksssksksss528</td>\n",
       "      <td>without_mask</td>\n",
       "      <td>301</td>\n",
       "      <td>400</td>\n",
       "      <td>91.428571</td>\n",
       "      <td>202.800000</td>\n",
       "      <td>316.810631</td>\n",
       "      <td>369.600000</td>\n",
       "      <td>1</td>\n",
       "    </tr>\n",
       "    <tr>\n",
       "      <th>2</th>\n",
       "      <td>maksssksksss272</td>\n",
       "      <td>mask_weared_incorrect</td>\n",
       "      <td>275</td>\n",
       "      <td>400</td>\n",
       "      <td>111.709091</td>\n",
       "      <td>128.400000</td>\n",
       "      <td>507.345455</td>\n",
       "      <td>364.800000</td>\n",
       "      <td>2</td>\n",
       "    </tr>\n",
       "    <tr>\n",
       "      <th>3</th>\n",
       "      <td>maksssksksss514</td>\n",
       "      <td>with_mask</td>\n",
       "      <td>400</td>\n",
       "      <td>267</td>\n",
       "      <td>44.800000</td>\n",
       "      <td>140.224719</td>\n",
       "      <td>68.800000</td>\n",
       "      <td>177.977528</td>\n",
       "      <td>0</td>\n",
       "    </tr>\n",
       "    <tr>\n",
       "      <th>4</th>\n",
       "      <td>maksssksksss514</td>\n",
       "      <td>with_mask</td>\n",
       "      <td>400</td>\n",
       "      <td>267</td>\n",
       "      <td>256.000000</td>\n",
       "      <td>118.651685</td>\n",
       "      <td>281.600000</td>\n",
       "      <td>149.213483</td>\n",
       "      <td>0</td>\n",
       "    </tr>\n",
       "  </tbody>\n",
       "</table>\n",
       "</div>"
      ],
      "text/plain": [
       "          filename            mask_or_not  width  height        xmin  \\\n",
       "0  maksssksksss299           without_mask    301     400  131.827243   \n",
       "1  maksssksksss528           without_mask    301     400   91.428571   \n",
       "2  maksssksksss272  mask_weared_incorrect    275     400  111.709091   \n",
       "3  maksssksksss514              with_mask    400     267   44.800000   \n",
       "4  maksssksksss514              with_mask    400     267  256.000000   \n",
       "\n",
       "         ymin        xmax        ymax  classes  \n",
       "0  232.800000  340.199336  384.000000        1  \n",
       "1  202.800000  316.810631  369.600000        1  \n",
       "2  128.400000  507.345455  364.800000        2  \n",
       "3  140.224719   68.800000  177.977528        0  \n",
       "4  118.651685  281.600000  149.213483        0  "
      ]
     },
     "execution_count": 270,
     "metadata": {},
     "output_type": "execute_result"
    }
   ],
   "source": [
    "df['xmin'] = (640/df['width'])*df['xmin']\n",
    "df['ymin'] = (480/df['height'])*df['ymin']\n",
    "df['xmax'] = (640/df['width'])*df['xmax']\n",
    "df['ymax'] = (480/df['height'])*df['ymax']\n",
    "df.head()"
   ]
  },
  {
   "cell_type": "code",
   "execution_count": 271,
   "id": "89a13537",
   "metadata": {},
   "outputs": [
    {
     "data": {
      "text/plain": [
       "filename        object\n",
       "mask_or_not     object\n",
       "width            int64\n",
       "height           int64\n",
       "xmin           float64\n",
       "ymin           float64\n",
       "xmax           float64\n",
       "ymax           float64\n",
       "classes          int64\n",
       "dtype: object"
      ]
     },
     "execution_count": 271,
     "metadata": {},
     "output_type": "execute_result"
    }
   ],
   "source": [
    "df.dtypes"
   ]
  },
  {
   "cell_type": "code",
   "execution_count": 272,
   "id": "47cdc02c",
   "metadata": {},
   "outputs": [],
   "source": [
    "df[['xmin', 'ymin', 'xmax', 'ymax']] = df[['xmin', 'ymin', 'xmax', 'ymax']].astype(int)"
   ]
  },
  {
   "cell_type": "code",
   "execution_count": 273,
   "id": "cf75aa8b",
   "metadata": {},
   "outputs": [],
   "source": [
    "W=640\n",
    "H=480"
   ]
  },
  {
   "cell_type": "code",
   "execution_count": 274,
   "id": "784d0f6b",
   "metadata": {},
   "outputs": [],
   "source": [
    "df['x_center'] = (df['xmin']+df['xmax'])/(2*W)\n",
    "df['y_center'] = (df['ymin']+df['ymax'])/(2*H)\n",
    "df['box_width'] = (df['xmax']-df['xmin'])/W\n",
    "df['box_height'] = (df['ymax']-df['ymin'])/H"
   ]
  },
  {
   "cell_type": "code",
   "execution_count": 275,
   "id": "d2b32c00",
   "metadata": {},
   "outputs": [],
   "source": [
    "df = df.astype(str)"
   ]
  },
  {
   "cell_type": "code",
   "execution_count": 276,
   "id": "a6bbe642",
   "metadata": {},
   "outputs": [
    {
     "data": {
      "text/plain": [
       "filename       object\n",
       "mask_or_not    object\n",
       "width          object\n",
       "height         object\n",
       "xmin           object\n",
       "ymin           object\n",
       "xmax           object\n",
       "ymax           object\n",
       "classes        object\n",
       "x_center       object\n",
       "y_center       object\n",
       "box_width      object\n",
       "box_height     object\n",
       "dtype: object"
      ]
     },
     "execution_count": 276,
     "metadata": {},
     "output_type": "execute_result"
    }
   ],
   "source": [
    "df.dtypes"
   ]
  },
  {
   "cell_type": "code",
   "execution_count": 277,
   "id": "5d2072f1",
   "metadata": {},
   "outputs": [],
   "source": [
    "def copy_label(label_list, destination_path):\n",
    "    for filename in [x.split('.')[0] for x in label_list]:\n",
    "        data = df[df['filename']==filename]\n",
    "        \n",
    "        text_list = []\n",
    "        for index, row in data.iterrows():\n",
    "            text_list.append(row['classes']+' '+row['x_center']+' '+row['y_center']+' '+row['box_width']+' '+row['box_height'])\n",
    "            \n",
    "            text = '\\n'.join(text_list)\n",
    "            with open (os.path.join(destination_path, filename+'.txt'),'w') as file:\n",
    "                file.write(text)  "
   ]
  },
  {
   "cell_type": "code",
   "execution_count": 278,
   "id": "f09951cf",
   "metadata": {},
   "outputs": [],
   "source": [
    "copy_label(train, train_labels_dir)\n",
    "copy_label(validation, validation_labels_dir)\n",
    "copy_label(test, test_labels_dir)"
   ]
  },
  {
   "cell_type": "code",
   "execution_count": 279,
   "id": "a000274f",
   "metadata": {},
   "outputs": [
    {
     "name": "stdout",
     "output_type": "stream",
     "text": [
      "There are 651 images in the train set\n",
      "\n",
      "There are 116 images in the train set\n",
      "\n",
      "There are 86 images in the train set\n"
     ]
    }
   ],
   "source": [
    "print(f'There are {len(os.listdir(train_labels_dir))} images in the train set\\n')\n",
    "print(f'There are {len(os.listdir(validation_labels_dir))} images in the train set\\n')\n",
    "print(f'There are {len(os.listdir(test_labels_dir))} images in the train set') "
   ]
  },
  {
   "cell_type": "code",
   "execution_count": 287,
   "id": "896546ef",
   "metadata": {},
   "outputs": [],
   "source": [
    "yaml_file = \"\"\"names: \n",
    "- with_mask \n",
    "- without_mask \n",
    "- mask_weared_incorrect\n",
    "nc: 3\n",
    "test: /Users/david/Desktop/machine learning/Python Machine Learning books/Python Artificial Intelligence Projects for Beginners/Detecting masks with yolo v8/Mask_Detection/test\n",
    "train: /Users/david/Desktop/machine learning/Python Machine Learning books/Python Artificial Intelligence Projects for Beginners/Detecting masks with yolo v8/Mask_Detection/train\n",
    "val: /Users/david/Desktop/machine learning/Python Machine Learning books/Python Artificial Intelligence Projects for Beginners/Detecting masks with yolo v8/Mask_Detection/validation         \n",
    "\"\"\"\n",
    "\n",
    "with open('Mask_Detection/data.yaml', 'w') as f:\n",
    "    f.write(yaml_file)"
   ]
  },
  {
   "cell_type": "code",
   "execution_count": 285,
   "id": "b2afd5d3",
   "metadata": {
    "scrolled": false
   },
   "outputs": [
    {
     "name": "stdout",
     "output_type": "stream",
     "text": [
      "Requirement already satisfied: ultralytics in /Library/Frameworks/Python.framework/Versions/3.10/lib/python3.10/site-packages (8.0.25)\n",
      "Requirement already satisfied: numpy>=1.18.5 in /Library/Frameworks/Python.framework/Versions/3.10/lib/python3.10/site-packages (from ultralytics) (1.22.3)\n",
      "Requirement already satisfied: torch>=1.7.0 in /Library/Frameworks/Python.framework/Versions/3.10/lib/python3.10/site-packages (from ultralytics) (1.13.1)\n",
      "Requirement already satisfied: seaborn>=0.11.0 in /Library/Frameworks/Python.framework/Versions/3.10/lib/python3.10/site-packages (from ultralytics) (0.12.0)\n",
      "Requirement already satisfied: scipy>=1.4.1 in /Library/Frameworks/Python.framework/Versions/3.10/lib/python3.10/site-packages (from ultralytics) (1.8.0)\n",
      "Requirement already satisfied: psutil in /Library/Frameworks/Python.framework/Versions/3.10/lib/python3.10/site-packages (from ultralytics) (5.9.0)\n",
      "Requirement already satisfied: torchvision>=0.8.1 in /Library/Frameworks/Python.framework/Versions/3.10/lib/python3.10/site-packages (from ultralytics) (0.14.1)\n",
      "Requirement already satisfied: tensorboard>=2.4.1 in /Library/Frameworks/Python.framework/Versions/3.10/lib/python3.10/site-packages (from ultralytics) (2.10.1)\n",
      "Requirement already satisfied: matplotlib>=3.2.2 in /Library/Frameworks/Python.framework/Versions/3.10/lib/python3.10/site-packages (from ultralytics) (3.5.2)\n",
      "Requirement already satisfied: tqdm>=4.64.0 in /Library/Frameworks/Python.framework/Versions/3.10/lib/python3.10/site-packages (from ultralytics) (4.64.0)\n",
      "Requirement already satisfied: sentry-sdk in /Library/Frameworks/Python.framework/Versions/3.10/lib/python3.10/site-packages (from ultralytics) (1.14.0)\n",
      "Requirement already satisfied: requests>=2.23.0 in /Library/Frameworks/Python.framework/Versions/3.10/lib/python3.10/site-packages (from ultralytics) (2.28.1)\n",
      "Requirement already satisfied: ipython in /Library/Frameworks/Python.framework/Versions/3.10/lib/python3.10/site-packages (from ultralytics) (8.3.0)\n",
      "Requirement already satisfied: thop>=0.1.1 in /Library/Frameworks/Python.framework/Versions/3.10/lib/python3.10/site-packages (from ultralytics) (0.1.1.post2209072238)\n",
      "Requirement already satisfied: opencv-python>=4.6.0 in /Library/Frameworks/Python.framework/Versions/3.10/lib/python3.10/site-packages (from ultralytics) (4.7.0.68)\n",
      "Requirement already satisfied: Pillow>=7.1.2 in /Library/Frameworks/Python.framework/Versions/3.10/lib/python3.10/site-packages (from ultralytics) (9.1.0)\n",
      "Requirement already satisfied: pandas>=1.1.4 in /Library/Frameworks/Python.framework/Versions/3.10/lib/python3.10/site-packages (from ultralytics) (1.4.2)\n",
      "Requirement already satisfied: PyYAML>=5.3.1 in /Library/Frameworks/Python.framework/Versions/3.10/lib/python3.10/site-packages (from ultralytics) (6.0)\n",
      "Requirement already satisfied: python-dateutil>=2.7 in /Library/Frameworks/Python.framework/Versions/3.10/lib/python3.10/site-packages (from matplotlib>=3.2.2->ultralytics) (2.8.2)\n",
      "Requirement already satisfied: kiwisolver>=1.0.1 in /Library/Frameworks/Python.framework/Versions/3.10/lib/python3.10/site-packages (from matplotlib>=3.2.2->ultralytics) (1.4.2)\n",
      "Requirement already satisfied: packaging>=20.0 in /Library/Frameworks/Python.framework/Versions/3.10/lib/python3.10/site-packages (from matplotlib>=3.2.2->ultralytics) (21.3)\n",
      "Requirement already satisfied: fonttools>=4.22.0 in /Library/Frameworks/Python.framework/Versions/3.10/lib/python3.10/site-packages (from matplotlib>=3.2.2->ultralytics) (4.33.3)\n",
      "Requirement already satisfied: cycler>=0.10 in /Library/Frameworks/Python.framework/Versions/3.10/lib/python3.10/site-packages (from matplotlib>=3.2.2->ultralytics) (0.10.0)\n",
      "Requirement already satisfied: pyparsing>=2.2.1 in /Library/Frameworks/Python.framework/Versions/3.10/lib/python3.10/site-packages (from matplotlib>=3.2.2->ultralytics) (2.4.7)\n",
      "Requirement already satisfied: pytz>=2020.1 in /Library/Frameworks/Python.framework/Versions/3.10/lib/python3.10/site-packages (from pandas>=1.1.4->ultralytics) (2022.1)\n",
      "Requirement already satisfied: charset-normalizer<3,>=2 in /Library/Frameworks/Python.framework/Versions/3.10/lib/python3.10/site-packages (from requests>=2.23.0->ultralytics) (2.1.1)\n",
      "Requirement already satisfied: idna<4,>=2.5 in /Library/Frameworks/Python.framework/Versions/3.10/lib/python3.10/site-packages (from requests>=2.23.0->ultralytics) (2.10)\n",
      "Requirement already satisfied: urllib3<1.27,>=1.21.1 in /Library/Frameworks/Python.framework/Versions/3.10/lib/python3.10/site-packages (from requests>=2.23.0->ultralytics) (1.26.12)\n",
      "Requirement already satisfied: certifi>=2017.4.17 in /Library/Frameworks/Python.framework/Versions/3.10/lib/python3.10/site-packages (from requests>=2.23.0->ultralytics) (2022.12.7)\n",
      "Requirement already satisfied: werkzeug>=1.0.1 in /Library/Frameworks/Python.framework/Versions/3.10/lib/python3.10/site-packages (from tensorboard>=2.4.1->ultralytics) (2.2.2)\n",
      "Requirement already satisfied: markdown>=2.6.8 in /Library/Frameworks/Python.framework/Versions/3.10/lib/python3.10/site-packages (from tensorboard>=2.4.1->ultralytics) (3.4.1)\n",
      "Requirement already satisfied: wheel>=0.26 in /Library/Frameworks/Python.framework/Versions/3.10/lib/python3.10/site-packages (from tensorboard>=2.4.1->ultralytics) (0.37.1)\n",
      "Requirement already satisfied: tensorboard-plugin-wit>=1.6.0 in /Library/Frameworks/Python.framework/Versions/3.10/lib/python3.10/site-packages (from tensorboard>=2.4.1->ultralytics) (1.8.1)\n",
      "Requirement already satisfied: absl-py>=0.4 in /Library/Frameworks/Python.framework/Versions/3.10/lib/python3.10/site-packages (from tensorboard>=2.4.1->ultralytics) (1.2.0)\n",
      "Requirement already satisfied: setuptools>=41.0.0 in /Library/Frameworks/Python.framework/Versions/3.10/lib/python3.10/site-packages (from tensorboard>=2.4.1->ultralytics) (58.1.0)\n",
      "Requirement already satisfied: grpcio>=1.24.3 in /Library/Frameworks/Python.framework/Versions/3.10/lib/python3.10/site-packages (from tensorboard>=2.4.1->ultralytics) (1.49.1)\n",
      "Requirement already satisfied: tensorboard-data-server<0.7.0,>=0.6.0 in /Library/Frameworks/Python.framework/Versions/3.10/lib/python3.10/site-packages (from tensorboard>=2.4.1->ultralytics) (0.6.1)\n",
      "Requirement already satisfied: protobuf<3.20,>=3.9.2 in /Library/Frameworks/Python.framework/Versions/3.10/lib/python3.10/site-packages (from tensorboard>=2.4.1->ultralytics) (3.19.6)\n",
      "Requirement already satisfied: google-auth-oauthlib<0.5,>=0.4.1 in /Library/Frameworks/Python.framework/Versions/3.10/lib/python3.10/site-packages (from tensorboard>=2.4.1->ultralytics) (0.4.6)\n",
      "Requirement already satisfied: google-auth<3,>=1.6.3 in /Library/Frameworks/Python.framework/Versions/3.10/lib/python3.10/site-packages (from tensorboard>=2.4.1->ultralytics) (2.12.0)\n",
      "Requirement already satisfied: typing-extensions in /Library/Frameworks/Python.framework/Versions/3.10/lib/python3.10/site-packages (from torch>=1.7.0->ultralytics) (4.3.0)\n",
      "Requirement already satisfied: matplotlib-inline in /Library/Frameworks/Python.framework/Versions/3.10/lib/python3.10/site-packages (from ipython->ultralytics) (0.1.3)\n",
      "Requirement already satisfied: prompt-toolkit!=3.0.0,!=3.0.1,<3.1.0,>=2.0.0 in /Library/Frameworks/Python.framework/Versions/3.10/lib/python3.10/site-packages (from ipython->ultralytics) (3.0.29)\n",
      "Requirement already satisfied: pickleshare in /Library/Frameworks/Python.framework/Versions/3.10/lib/python3.10/site-packages (from ipython->ultralytics) (0.7.5)\n",
      "Requirement already satisfied: stack-data in /Library/Frameworks/Python.framework/Versions/3.10/lib/python3.10/site-packages (from ipython->ultralytics) (0.2.0)\n",
      "Requirement already satisfied: jedi>=0.16 in /Library/Frameworks/Python.framework/Versions/3.10/lib/python3.10/site-packages (from ipython->ultralytics) (0.18.1)\n",
      "Requirement already satisfied: backcall in /Library/Frameworks/Python.framework/Versions/3.10/lib/python3.10/site-packages (from ipython->ultralytics) (0.2.0)\n",
      "Requirement already satisfied: pygments>=2.4.0 in /Library/Frameworks/Python.framework/Versions/3.10/lib/python3.10/site-packages (from ipython->ultralytics) (2.12.0)\n",
      "Requirement already satisfied: decorator in /Library/Frameworks/Python.framework/Versions/3.10/lib/python3.10/site-packages (from ipython->ultralytics) (5.1.1)\n",
      "Requirement already satisfied: pexpect>4.3 in /Library/Frameworks/Python.framework/Versions/3.10/lib/python3.10/site-packages (from ipython->ultralytics) (4.8.0)\n",
      "Requirement already satisfied: traitlets>=5 in /Library/Frameworks/Python.framework/Versions/3.10/lib/python3.10/site-packages (from ipython->ultralytics) (5.1.1)\n",
      "Requirement already satisfied: appnope in /Library/Frameworks/Python.framework/Versions/3.10/lib/python3.10/site-packages (from ipython->ultralytics) (0.1.3)\n"
     ]
    },
    {
     "name": "stdout",
     "output_type": "stream",
     "text": [
      "Requirement already satisfied: six in /Users/david/Library/Python/3.10/lib/python/site-packages (from cycler>=0.10->matplotlib>=3.2.2->ultralytics) (1.16.0)\n",
      "Requirement already satisfied: cachetools<6.0,>=2.0.0 in /Library/Frameworks/Python.framework/Versions/3.10/lib/python3.10/site-packages (from google-auth<3,>=1.6.3->tensorboard>=2.4.1->ultralytics) (5.2.0)\n",
      "Requirement already satisfied: pyasn1-modules>=0.2.1 in /Library/Frameworks/Python.framework/Versions/3.10/lib/python3.10/site-packages (from google-auth<3,>=1.6.3->tensorboard>=2.4.1->ultralytics) (0.2.8)\n",
      "Requirement already satisfied: rsa<5,>=3.1.4 in /Library/Frameworks/Python.framework/Versions/3.10/lib/python3.10/site-packages (from google-auth<3,>=1.6.3->tensorboard>=2.4.1->ultralytics) (4.9)\n",
      "Requirement already satisfied: requests-oauthlib>=0.7.0 in /Library/Frameworks/Python.framework/Versions/3.10/lib/python3.10/site-packages (from google-auth-oauthlib<0.5,>=0.4.1->tensorboard>=2.4.1->ultralytics) (1.3.1)\n",
      "Requirement already satisfied: parso<0.9.0,>=0.8.0 in /Library/Frameworks/Python.framework/Versions/3.10/lib/python3.10/site-packages (from jedi>=0.16->ipython->ultralytics) (0.8.3)\n",
      "Requirement already satisfied: ptyprocess>=0.5 in /Library/Frameworks/Python.framework/Versions/3.10/lib/python3.10/site-packages (from pexpect>4.3->ipython->ultralytics) (0.7.0)\n",
      "Requirement already satisfied: wcwidth in /Library/Frameworks/Python.framework/Versions/3.10/lib/python3.10/site-packages (from prompt-toolkit!=3.0.0,!=3.0.1,<3.1.0,>=2.0.0->ipython->ultralytics) (0.2.5)\n",
      "Requirement already satisfied: MarkupSafe>=2.1.1 in /Library/Frameworks/Python.framework/Versions/3.10/lib/python3.10/site-packages (from werkzeug>=1.0.1->tensorboard>=2.4.1->ultralytics) (2.1.1)\n",
      "Requirement already satisfied: executing in /Library/Frameworks/Python.framework/Versions/3.10/lib/python3.10/site-packages (from stack-data->ipython->ultralytics) (0.8.3)\n",
      "Requirement already satisfied: asttokens in /Library/Frameworks/Python.framework/Versions/3.10/lib/python3.10/site-packages (from stack-data->ipython->ultralytics) (2.0.5)\n",
      "Requirement already satisfied: pure-eval in /Library/Frameworks/Python.framework/Versions/3.10/lib/python3.10/site-packages (from stack-data->ipython->ultralytics) (0.2.2)\n",
      "Requirement already satisfied: pyasn1<0.5.0,>=0.4.6 in /Library/Frameworks/Python.framework/Versions/3.10/lib/python3.10/site-packages (from pyasn1-modules>=0.2.1->google-auth<3,>=1.6.3->tensorboard>=2.4.1->ultralytics) (0.4.8)\n",
      "Requirement already satisfied: oauthlib>=3.0.0 in /Library/Frameworks/Python.framework/Versions/3.10/lib/python3.10/site-packages (from requests-oauthlib>=0.7.0->google-auth-oauthlib<0.5,>=0.4.1->tensorboard>=2.4.1->ultralytics) (3.2.1)\n",
      "\u001b[33mWARNING: You are using pip version 22.0.4; however, version 22.3.1 is available.\n",
      "You should consider upgrading via the '/Library/Frameworks/Python.framework/Versions/3.10/bin/python3.10 -m pip install --upgrade pip' command.\u001b[0m\u001b[33m\n",
      "\u001b[0mNote: you may need to restart the kernel to use updated packages.\n"
     ]
    }
   ],
   "source": [
    "pip install ultralytics"
   ]
  },
  {
   "cell_type": "code",
   "execution_count": 286,
   "id": "75378340",
   "metadata": {},
   "outputs": [
    {
     "name": "stdout",
     "output_type": "stream",
     "text": [
      "\u001b[2K\r",
      "\u001b[2K\r",
      "Ultralytics YOLOv8.0.25 🚀 Python-3.10.1 torch-1.13.1 CPU\r\n",
      "Setup complete ✅ (8 CPUs, 8.0 GB RAM, 105.9/112.7 GB disk)\r\n"
     ]
    }
   ],
   "source": [
    "from ultralytics import YOLO\n",
    "import os\n",
    "from IPython.display import display, Image\n",
    "from IPython import display\n",
    "display.clear_output\n",
    "! yolo checks"
   ]
  },
  {
   "cell_type": "code",
   "execution_count": 1,
   "id": "8546375f",
   "metadata": {},
   "outputs": [
    {
     "name": "stdout",
     "output_type": "stream",
     "text": [
      "Downloading https://github.com/ultralytics/assets/releases/download/v0.0.0/yolov8x-seg.pt to yolov8x-seg.pt...\n",
      "100%|████████████████████████████████████████| 137M/137M [01:49<00:00, 1.32MB/s]\n",
      "WARNING ⚠️ 'task=detect' conflicts with segment model yolov8x-seg.pt. Inheriting 'task=segment' from yolov8x-seg.pt and ignoring 'task=detect'.\n",
      "Ultralytics YOLOv8.0.25 🚀 Python-3.10.1 torch-1.13.1 CPU\n",
      "\u001b[34m\u001b[1myolo/engine/trainer: \u001b[0mtask=segment, mode=train, model=yolov8x-seg.pt, data=/Users/david/Desktop/machine learning/Python Machine Learning books/Python Artificial Intelligence Projects for Beginners/Detecting masks with yolo v8/Mask_Detection/data.yaml, epochs=20, patience=50, batch=16, imgsz=640, save=True, cache=False, device=None, workers=8, project=None, name=None, exist_ok=False, pretrained=False, optimizer=SGD, verbose=True, seed=0, deterministic=True, single_cls=False, image_weights=False, rect=False, cos_lr=False, close_mosaic=10, resume=False, overlap_mask=True, mask_ratio=4, dropout=0.0, val=True, save_json=False, save_hybrid=False, conf=None, iou=0.7, max_det=300, half=False, dnn=False, plots=True, source=None, show=False, save_txt=False, save_conf=False, save_crop=False, hide_labels=False, hide_conf=False, vid_stride=1, line_thickness=3, visualize=False, augment=False, agnostic_nms=False, classes=None, retina_masks=False, boxes=True, format=torchscript, keras=False, optimize=False, int8=False, dynamic=False, simplify=False, opset=None, workspace=4, nms=False, lr0=0.01, lrf=0.01, momentum=0.937, weight_decay=0.0005, warmup_epochs=3.0, warmup_momentum=0.8, warmup_bias_lr=0.1, box=7.5, cls=0.5, dfl=1.5, fl_gamma=0.0, label_smoothing=0.0, nbs=64, hsv_h=0.015, hsv_s=0.7, hsv_v=0.4, degrees=0.0, translate=0.1, scale=0.5, shear=0.0, perspective=0.0, flipud=0.0, fliplr=0.5, mosaic=1.0, mixup=0.0, copy_paste=0.0, cfg=None, v5loader=False, save_dir=runs/segment/train\n",
      "Overriding model.yaml nc=80 with nc=3\n",
      "\n",
      "                   from  n    params  module                                       arguments                     \n",
      "  0                  -1  1      2320  ultralytics.nn.modules.Conv                  [3, 80, 3, 2]                 \n",
      "  1                  -1  1    115520  ultralytics.nn.modules.Conv                  [80, 160, 3, 2]               \n",
      "  2                  -1  3    436800  ultralytics.nn.modules.C2f                   [160, 160, 3, True]           \n",
      "  3                  -1  1    461440  ultralytics.nn.modules.Conv                  [160, 320, 3, 2]              \n",
      "  4                  -1  6   3281920  ultralytics.nn.modules.C2f                   [320, 320, 6, True]           \n",
      "  5                  -1  1   1844480  ultralytics.nn.modules.Conv                  [320, 640, 3, 2]              \n",
      "  6                  -1  6  13117440  ultralytics.nn.modules.C2f                   [640, 640, 6, True]           \n",
      "  7                  -1  1   3687680  ultralytics.nn.modules.Conv                  [640, 640, 3, 2]              \n",
      "  8                  -1  3   6969600  ultralytics.nn.modules.C2f                   [640, 640, 3, True]           \n",
      "  9                  -1  1   1025920  ultralytics.nn.modules.SPPF                  [640, 640, 5]                 \n",
      " 10                  -1  1         0  torch.nn.modules.upsampling.Upsample         [None, 2, 'nearest']          \n",
      " 11             [-1, 6]  1         0  ultralytics.nn.modules.Concat                [1]                           \n",
      " 12                  -1  3   7379200  ultralytics.nn.modules.C2f                   [1280, 640, 3]                \n",
      " 13                  -1  1         0  torch.nn.modules.upsampling.Upsample         [None, 2, 'nearest']          \n",
      " 14             [-1, 4]  1         0  ultralytics.nn.modules.Concat                [1]                           \n",
      " 15                  -1  3   1948800  ultralytics.nn.modules.C2f                   [960, 320, 3]                 \n",
      " 16                  -1  1    922240  ultralytics.nn.modules.Conv                  [320, 320, 3, 2]              \n",
      " 17            [-1, 12]  1         0  ultralytics.nn.modules.Concat                [1]                           \n",
      " 18                  -1  3   7174400  ultralytics.nn.modules.C2f                   [960, 640, 3]                 \n",
      " 19                  -1  1   3687680  ultralytics.nn.modules.Conv                  [640, 640, 3, 2]              \n",
      " 20             [-1, 9]  1         0  ultralytics.nn.modules.Concat                [1]                           \n",
      " 21                  -1  3   7379200  ultralytics.nn.modules.C2f                   [1280, 640, 3]                \n",
      " 22        [15, 18, 21]  1  12319097  ultralytics.nn.modules.Segment               [3, 32, 320, [320, 640, 640]] \n",
      "YOLOv8x-seg summary: 401 layers, 71753737 parameters, 71753721 gradients, 344.5 GFLOPs\n",
      "\n",
      "Transferred 651/657 items from pretrained weights\n",
      "2023-02-04 00:13:46.050422: I tensorflow/core/platform/cpu_feature_guard.cc:193] This TensorFlow binary is optimized with oneAPI Deep Neural Network Library (oneDNN) to use the following CPU instructions in performance-critical operations:  AVX2 FMA\n",
      "To enable them in other operations, rebuild TensorFlow with the appropriate compiler flags.\n",
      "\u001b[34m\u001b[1moptimizer:\u001b[0m SGD(lr=0.01) with parameter groups 106 weight(decay=0.0), 117 weight(decay=0.0005), 116 bias\n",
      "\u001b[34m\u001b[1mtrain: \u001b[0mScanning /Users/david/Desktop/machine learning/Python Machine Learning bo\u001b[0m\n",
      "\u001b[34m\u001b[1mtrain: \u001b[0mNew cache created: /Users/david/Desktop/machine learning/Python Machine Learning books/Python Artificial Intelligence Projects for Beginners/Detecting masks with yolo v8/Mask_Detection/train/labels.cache\n",
      "\u001b[34m\u001b[1mval: \u001b[0mScanning /Users/david/Desktop/machine learning/Python Machine Learning book\u001b[0m\n",
      "\u001b[34m\u001b[1mval: \u001b[0mNew cache created: /Users/david/Desktop/machine learning/Python Machine Learning books/Python Artificial Intelligence Projects for Beginners/Detecting masks with yolo v8/Mask_Detection/validation/labels.cache\n",
      "Image sizes 640 train, 640 val\n",
      "Using 0 dataloader workers\n",
      "Logging results to \u001b[1mruns/segment/train\u001b[0m\n",
      "Starting training for 20 epochs...\n",
      "\n",
      "      Epoch    GPU_mem   box_loss   seg_loss   cls_loss   dfl_loss  Instances       Size\n",
      "  0%|          | 0/41 [00:00<?, ?it/s]"
     ]
    }
   ],
   "source": [
    "! yolo task=detect mode=train model=yolov8x.pt data='/Users/david/Desktop/machine learning/Python Machine Learning books/Python Artificial Intelligence Projects for Beginners/Detecting masks with yolo v8/Mask_Detection/data.yaml' epochs=20 imgsz=640"
   ]
  },
  {
   "cell_type": "code",
   "execution_count": null,
   "id": "d9334b90",
   "metadata": {},
   "outputs": [],
   "source": []
  }
 ],
 "metadata": {
  "kernelspec": {
   "display_name": "Python 3 (ipykernel)",
   "language": "python",
   "name": "python3"
  },
  "language_info": {
   "codemirror_mode": {
    "name": "ipython",
    "version": 3
   },
   "file_extension": ".py",
   "mimetype": "text/x-python",
   "name": "python",
   "nbconvert_exporter": "python",
   "pygments_lexer": "ipython3",
   "version": "3.10.1"
  }
 },
 "nbformat": 4,
 "nbformat_minor": 5
}
